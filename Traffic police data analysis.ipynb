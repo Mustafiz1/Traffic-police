{
 "cells": [
  {
   "cell_type": "markdown",
   "id": "21ec253e",
   "metadata": {},
   "source": [
    "# Traffic Police Data Analysis"
   ]
  },
  {
   "cell_type": "code",
   "execution_count": 1,
   "id": "f00a5999",
   "metadata": {},
   "outputs": [],
   "source": [
    "import numpy as np\n",
    "import pandas as pd\n",
    "import matplotlib.pyplot as plt\n",
    "%matplotlib inline"
   ]
  },
  {
   "cell_type": "markdown",
   "id": "8d7e4a42",
   "metadata": {},
   "source": [
    "### Load dataset"
   ]
  },
  {
   "cell_type": "code",
   "execution_count": 2,
   "id": "0cacd6e2",
   "metadata": {},
   "outputs": [],
   "source": [
    "df = pd.read_csv('police.csv')"
   ]
  },
  {
   "cell_type": "code",
   "execution_count": 3,
   "id": "338cca49",
   "metadata": {},
   "outputs": [
    {
     "data": {
      "text/html": [
       "<div>\n",
       "<style scoped>\n",
       "    .dataframe tbody tr th:only-of-type {\n",
       "        vertical-align: middle;\n",
       "    }\n",
       "\n",
       "    .dataframe tbody tr th {\n",
       "        vertical-align: top;\n",
       "    }\n",
       "\n",
       "    .dataframe thead th {\n",
       "        text-align: right;\n",
       "    }\n",
       "</style>\n",
       "<table border=\"1\" class=\"dataframe\">\n",
       "  <thead>\n",
       "    <tr style=\"text-align: right;\">\n",
       "      <th></th>\n",
       "      <th>stop_date</th>\n",
       "      <th>stop_time</th>\n",
       "      <th>county_name</th>\n",
       "      <th>driver_gender</th>\n",
       "      <th>driver_age_raw</th>\n",
       "      <th>driver_age</th>\n",
       "      <th>driver_race</th>\n",
       "      <th>violation_raw</th>\n",
       "      <th>violation</th>\n",
       "      <th>search_conducted</th>\n",
       "      <th>search_type</th>\n",
       "      <th>stop_outcome</th>\n",
       "      <th>is_arrested</th>\n",
       "      <th>stop_duration</th>\n",
       "      <th>drugs_related_stop</th>\n",
       "    </tr>\n",
       "  </thead>\n",
       "  <tbody>\n",
       "    <tr>\n",
       "      <th>0</th>\n",
       "      <td>2005-01-02</td>\n",
       "      <td>01:55</td>\n",
       "      <td>NaN</td>\n",
       "      <td>M</td>\n",
       "      <td>1985.0</td>\n",
       "      <td>20.0</td>\n",
       "      <td>White</td>\n",
       "      <td>Speeding</td>\n",
       "      <td>Speeding</td>\n",
       "      <td>False</td>\n",
       "      <td>NaN</td>\n",
       "      <td>Citation</td>\n",
       "      <td>False</td>\n",
       "      <td>0-15 Min</td>\n",
       "      <td>False</td>\n",
       "    </tr>\n",
       "    <tr>\n",
       "      <th>1</th>\n",
       "      <td>2005-01-18</td>\n",
       "      <td>08:15</td>\n",
       "      <td>NaN</td>\n",
       "      <td>M</td>\n",
       "      <td>1965.0</td>\n",
       "      <td>40.0</td>\n",
       "      <td>White</td>\n",
       "      <td>Speeding</td>\n",
       "      <td>Speeding</td>\n",
       "      <td>False</td>\n",
       "      <td>NaN</td>\n",
       "      <td>Citation</td>\n",
       "      <td>False</td>\n",
       "      <td>0-15 Min</td>\n",
       "      <td>False</td>\n",
       "    </tr>\n",
       "    <tr>\n",
       "      <th>2</th>\n",
       "      <td>2005-01-23</td>\n",
       "      <td>23:15</td>\n",
       "      <td>NaN</td>\n",
       "      <td>M</td>\n",
       "      <td>1972.0</td>\n",
       "      <td>33.0</td>\n",
       "      <td>White</td>\n",
       "      <td>Speeding</td>\n",
       "      <td>Speeding</td>\n",
       "      <td>False</td>\n",
       "      <td>NaN</td>\n",
       "      <td>Citation</td>\n",
       "      <td>False</td>\n",
       "      <td>0-15 Min</td>\n",
       "      <td>False</td>\n",
       "    </tr>\n",
       "    <tr>\n",
       "      <th>3</th>\n",
       "      <td>2005-02-20</td>\n",
       "      <td>17:15</td>\n",
       "      <td>NaN</td>\n",
       "      <td>M</td>\n",
       "      <td>1986.0</td>\n",
       "      <td>19.0</td>\n",
       "      <td>White</td>\n",
       "      <td>Call for Service</td>\n",
       "      <td>Other</td>\n",
       "      <td>False</td>\n",
       "      <td>NaN</td>\n",
       "      <td>Arrest Driver</td>\n",
       "      <td>True</td>\n",
       "      <td>16-30 Min</td>\n",
       "      <td>False</td>\n",
       "    </tr>\n",
       "    <tr>\n",
       "      <th>4</th>\n",
       "      <td>2005-03-14</td>\n",
       "      <td>10:00</td>\n",
       "      <td>NaN</td>\n",
       "      <td>F</td>\n",
       "      <td>1984.0</td>\n",
       "      <td>21.0</td>\n",
       "      <td>White</td>\n",
       "      <td>Speeding</td>\n",
       "      <td>Speeding</td>\n",
       "      <td>False</td>\n",
       "      <td>NaN</td>\n",
       "      <td>Citation</td>\n",
       "      <td>False</td>\n",
       "      <td>0-15 Min</td>\n",
       "      <td>False</td>\n",
       "    </tr>\n",
       "  </tbody>\n",
       "</table>\n",
       "</div>"
      ],
      "text/plain": [
       "    stop_date stop_time  county_name driver_gender  driver_age_raw  \\\n",
       "0  2005-01-02     01:55          NaN             M          1985.0   \n",
       "1  2005-01-18     08:15          NaN             M          1965.0   \n",
       "2  2005-01-23     23:15          NaN             M          1972.0   \n",
       "3  2005-02-20     17:15          NaN             M          1986.0   \n",
       "4  2005-03-14     10:00          NaN             F          1984.0   \n",
       "\n",
       "   driver_age driver_race     violation_raw violation  search_conducted  \\\n",
       "0        20.0       White          Speeding  Speeding             False   \n",
       "1        40.0       White          Speeding  Speeding             False   \n",
       "2        33.0       White          Speeding  Speeding             False   \n",
       "3        19.0       White  Call for Service     Other             False   \n",
       "4        21.0       White          Speeding  Speeding             False   \n",
       "\n",
       "  search_type   stop_outcome is_arrested stop_duration  drugs_related_stop  \n",
       "0         NaN       Citation       False      0-15 Min               False  \n",
       "1         NaN       Citation       False      0-15 Min               False  \n",
       "2         NaN       Citation       False      0-15 Min               False  \n",
       "3         NaN  Arrest Driver        True     16-30 Min               False  \n",
       "4         NaN       Citation       False      0-15 Min               False  "
      ]
     },
     "execution_count": 3,
     "metadata": {},
     "output_type": "execute_result"
    }
   ],
   "source": [
    "df.head()"
   ]
  },
  {
   "cell_type": "code",
   "execution_count": 4,
   "id": "b7c425b6",
   "metadata": {},
   "outputs": [
    {
     "data": {
      "text/plain": [
       "(91741, 15)"
      ]
     },
     "execution_count": 4,
     "metadata": {},
     "output_type": "execute_result"
    }
   ],
   "source": [
    "df.shape"
   ]
  },
  {
   "cell_type": "code",
   "execution_count": 5,
   "id": "c18e79f0",
   "metadata": {},
   "outputs": [
    {
     "data": {
      "text/html": [
       "<div>\n",
       "<style scoped>\n",
       "    .dataframe tbody tr th:only-of-type {\n",
       "        vertical-align: middle;\n",
       "    }\n",
       "\n",
       "    .dataframe tbody tr th {\n",
       "        vertical-align: top;\n",
       "    }\n",
       "\n",
       "    .dataframe thead th {\n",
       "        text-align: right;\n",
       "    }\n",
       "</style>\n",
       "<table border=\"1\" class=\"dataframe\">\n",
       "  <thead>\n",
       "    <tr style=\"text-align: right;\">\n",
       "      <th></th>\n",
       "      <th>county_name</th>\n",
       "      <th>driver_age_raw</th>\n",
       "      <th>driver_age</th>\n",
       "    </tr>\n",
       "  </thead>\n",
       "  <tbody>\n",
       "    <tr>\n",
       "      <th>count</th>\n",
       "      <td>0.0</td>\n",
       "      <td>86414.000000</td>\n",
       "      <td>86120.000000</td>\n",
       "    </tr>\n",
       "    <tr>\n",
       "      <th>mean</th>\n",
       "      <td>NaN</td>\n",
       "      <td>1970.491228</td>\n",
       "      <td>34.011333</td>\n",
       "    </tr>\n",
       "    <tr>\n",
       "      <th>std</th>\n",
       "      <td>NaN</td>\n",
       "      <td>110.914909</td>\n",
       "      <td>12.738564</td>\n",
       "    </tr>\n",
       "    <tr>\n",
       "      <th>min</th>\n",
       "      <td>NaN</td>\n",
       "      <td>0.000000</td>\n",
       "      <td>15.000000</td>\n",
       "    </tr>\n",
       "    <tr>\n",
       "      <th>25%</th>\n",
       "      <td>NaN</td>\n",
       "      <td>1967.000000</td>\n",
       "      <td>23.000000</td>\n",
       "    </tr>\n",
       "    <tr>\n",
       "      <th>50%</th>\n",
       "      <td>NaN</td>\n",
       "      <td>1980.000000</td>\n",
       "      <td>31.000000</td>\n",
       "    </tr>\n",
       "    <tr>\n",
       "      <th>75%</th>\n",
       "      <td>NaN</td>\n",
       "      <td>1987.000000</td>\n",
       "      <td>43.000000</td>\n",
       "    </tr>\n",
       "    <tr>\n",
       "      <th>max</th>\n",
       "      <td>NaN</td>\n",
       "      <td>8801.000000</td>\n",
       "      <td>99.000000</td>\n",
       "    </tr>\n",
       "  </tbody>\n",
       "</table>\n",
       "</div>"
      ],
      "text/plain": [
       "       county_name  driver_age_raw    driver_age\n",
       "count          0.0    86414.000000  86120.000000\n",
       "mean           NaN     1970.491228     34.011333\n",
       "std            NaN      110.914909     12.738564\n",
       "min            NaN        0.000000     15.000000\n",
       "25%            NaN     1967.000000     23.000000\n",
       "50%            NaN     1980.000000     31.000000\n",
       "75%            NaN     1987.000000     43.000000\n",
       "max            NaN     8801.000000     99.000000"
      ]
     },
     "execution_count": 5,
     "metadata": {},
     "output_type": "execute_result"
    }
   ],
   "source": [
    "df.describe()"
   ]
  },
  {
   "cell_type": "code",
   "execution_count": 6,
   "id": "f0630d7c",
   "metadata": {},
   "outputs": [
    {
     "name": "stdout",
     "output_type": "stream",
     "text": [
      "<class 'pandas.core.frame.DataFrame'>\n",
      "RangeIndex: 91741 entries, 0 to 91740\n",
      "Data columns (total 15 columns):\n",
      " #   Column              Non-Null Count  Dtype  \n",
      "---  ------              --------------  -----  \n",
      " 0   stop_date           91741 non-null  object \n",
      " 1   stop_time           91741 non-null  object \n",
      " 2   county_name         0 non-null      float64\n",
      " 3   driver_gender       86406 non-null  object \n",
      " 4   driver_age_raw      86414 non-null  float64\n",
      " 5   driver_age          86120 non-null  float64\n",
      " 6   driver_race         86408 non-null  object \n",
      " 7   violation_raw       86408 non-null  object \n",
      " 8   violation           86408 non-null  object \n",
      " 9   search_conducted    91741 non-null  bool   \n",
      " 10  search_type         3196 non-null   object \n",
      " 11  stop_outcome        86408 non-null  object \n",
      " 12  is_arrested         86408 non-null  object \n",
      " 13  stop_duration       86408 non-null  object \n",
      " 14  drugs_related_stop  91741 non-null  bool   \n",
      "dtypes: bool(2), float64(3), object(10)\n",
      "memory usage: 9.3+ MB\n"
     ]
    }
   ],
   "source": [
    "df.info()"
   ]
  },
  {
   "cell_type": "code",
   "execution_count": 7,
   "id": "04fda33c",
   "metadata": {},
   "outputs": [
    {
     "data": {
      "text/plain": [
       "stop_date              object\n",
       "stop_time              object\n",
       "county_name           float64\n",
       "driver_gender          object\n",
       "driver_age_raw        float64\n",
       "driver_age            float64\n",
       "driver_race            object\n",
       "violation_raw          object\n",
       "violation              object\n",
       "search_conducted         bool\n",
       "search_type            object\n",
       "stop_outcome           object\n",
       "is_arrested            object\n",
       "stop_duration          object\n",
       "drugs_related_stop       bool\n",
       "dtype: object"
      ]
     },
     "execution_count": 7,
     "metadata": {},
     "output_type": "execute_result"
    }
   ],
   "source": [
    "df.dtypes"
   ]
  },
  {
   "cell_type": "markdown",
   "id": "56904545",
   "metadata": {},
   "source": [
    "### Convert stop_date and stop_time into date and time"
   ]
  },
  {
   "cell_type": "code",
   "execution_count": 8,
   "id": "19efc5d3",
   "metadata": {},
   "outputs": [],
   "source": [
    "df['stop_time'] = pd.to_datetime(df.stop_time)\n",
    "df['stop_date'] = pd.to_datetime(df.stop_date)"
   ]
  },
  {
   "cell_type": "code",
   "execution_count": 9,
   "id": "194e8015",
   "metadata": {},
   "outputs": [
    {
     "data": {
      "text/plain": [
       "stop_date             datetime64[ns]\n",
       "stop_time             datetime64[ns]\n",
       "county_name                  float64\n",
       "driver_gender                 object\n",
       "driver_age_raw               float64\n",
       "driver_age                   float64\n",
       "driver_race                   object\n",
       "violation_raw                 object\n",
       "violation                     object\n",
       "search_conducted                bool\n",
       "search_type                   object\n",
       "stop_outcome                  object\n",
       "is_arrested                   object\n",
       "stop_duration                 object\n",
       "drugs_related_stop              bool\n",
       "dtype: object"
      ]
     },
     "execution_count": 9,
     "metadata": {},
     "output_type": "execute_result"
    }
   ],
   "source": [
    "df.dtypes"
   ]
  },
  {
   "cell_type": "markdown",
   "id": "a41b5e15",
   "metadata": {},
   "source": [
    "### Search_conducted for each age group for male and female"
   ]
  },
  {
   "cell_type": "code",
   "execution_count": 10,
   "id": "6f64631c",
   "metadata": {},
   "outputs": [
    {
     "data": {
      "text/html": [
       "<div>\n",
       "<style scoped>\n",
       "    .dataframe tbody tr th:only-of-type {\n",
       "        vertical-align: middle;\n",
       "    }\n",
       "\n",
       "    .dataframe tbody tr th {\n",
       "        vertical-align: top;\n",
       "    }\n",
       "\n",
       "    .dataframe thead th {\n",
       "        text-align: right;\n",
       "    }\n",
       "</style>\n",
       "<table border=\"1\" class=\"dataframe\">\n",
       "  <thead>\n",
       "    <tr style=\"text-align: right;\">\n",
       "      <th></th>\n",
       "      <th></th>\n",
       "      <th>driver_age</th>\n",
       "      <th>driver_age_raw</th>\n",
       "      <th>drugs_related_stop</th>\n",
       "      <th>search_conducted</th>\n",
       "    </tr>\n",
       "    <tr>\n",
       "      <th>driver_gender</th>\n",
       "      <th>violation</th>\n",
       "      <th></th>\n",
       "      <th></th>\n",
       "      <th></th>\n",
       "      <th></th>\n",
       "    </tr>\n",
       "  </thead>\n",
       "  <tbody>\n",
       "    <tr>\n",
       "      <th rowspan=\"6\" valign=\"top\">F</th>\n",
       "      <th>Equipment</th>\n",
       "      <td>31.521739</td>\n",
       "      <td>1978.642397</td>\n",
       "      <td>0.008042</td>\n",
       "      <td>0.042622</td>\n",
       "    </tr>\n",
       "    <tr>\n",
       "      <th>Moving violation</th>\n",
       "      <td>33.954930</td>\n",
       "      <td>1972.106117</td>\n",
       "      <td>0.009363</td>\n",
       "      <td>0.036205</td>\n",
       "    </tr>\n",
       "    <tr>\n",
       "      <th>Other</th>\n",
       "      <td>33.969343</td>\n",
       "      <td>1962.591304</td>\n",
       "      <td>0.010145</td>\n",
       "      <td>0.056522</td>\n",
       "    </tr>\n",
       "    <tr>\n",
       "      <th>Registration/plates</th>\n",
       "      <td>32.850791</td>\n",
       "      <td>1976.183613</td>\n",
       "      <td>0.003949</td>\n",
       "      <td>0.066140</td>\n",
       "    </tr>\n",
       "    <tr>\n",
       "      <th>Seat belt</th>\n",
       "      <td>30.124409</td>\n",
       "      <td>1983.960630</td>\n",
       "      <td>0.006299</td>\n",
       "      <td>0.012598</td>\n",
       "    </tr>\n",
       "    <tr>\n",
       "      <th>Speeding</th>\n",
       "      <td>32.529023</td>\n",
       "      <td>1974.767666</td>\n",
       "      <td>0.002002</td>\n",
       "      <td>0.008720</td>\n",
       "    </tr>\n",
       "    <tr>\n",
       "      <th rowspan=\"6\" valign=\"top\">M</th>\n",
       "      <th>Equipment</th>\n",
       "      <td>31.857210</td>\n",
       "      <td>1977.442517</td>\n",
       "      <td>0.022852</td>\n",
       "      <td>0.070081</td>\n",
       "    </tr>\n",
       "    <tr>\n",
       "      <th>Moving violation</th>\n",
       "      <td>36.653404</td>\n",
       "      <td>1966.953994</td>\n",
       "      <td>0.016974</td>\n",
       "      <td>0.059831</td>\n",
       "    </tr>\n",
       "    <tr>\n",
       "      <th>Other</th>\n",
       "      <td>40.620631</td>\n",
       "      <td>1912.469810</td>\n",
       "      <td>0.005514</td>\n",
       "      <td>0.047146</td>\n",
       "    </tr>\n",
       "    <tr>\n",
       "      <th>Registration/plates</th>\n",
       "      <td>32.783023</td>\n",
       "      <td>1975.455974</td>\n",
       "      <td>0.016122</td>\n",
       "      <td>0.110376</td>\n",
       "    </tr>\n",
       "    <tr>\n",
       "      <th>Seat belt</th>\n",
       "      <td>32.776867</td>\n",
       "      <td>1981.343116</td>\n",
       "      <td>0.017264</td>\n",
       "      <td>0.037980</td>\n",
       "    </tr>\n",
       "    <tr>\n",
       "      <th>Speeding</th>\n",
       "      <td>34.000729</td>\n",
       "      <td>1972.413384</td>\n",
       "      <td>0.006186</td>\n",
       "      <td>0.024925</td>\n",
       "    </tr>\n",
       "  </tbody>\n",
       "</table>\n",
       "</div>"
      ],
      "text/plain": [
       "                                   driver_age  driver_age_raw  \\\n",
       "driver_gender violation                                         \n",
       "F             Equipment             31.521739     1978.642397   \n",
       "              Moving violation      33.954930     1972.106117   \n",
       "              Other                 33.969343     1962.591304   \n",
       "              Registration/plates   32.850791     1976.183613   \n",
       "              Seat belt             30.124409     1983.960630   \n",
       "              Speeding              32.529023     1974.767666   \n",
       "M             Equipment             31.857210     1977.442517   \n",
       "              Moving violation      36.653404     1966.953994   \n",
       "              Other                 40.620631     1912.469810   \n",
       "              Registration/plates   32.783023     1975.455974   \n",
       "              Seat belt             32.776867     1981.343116   \n",
       "              Speeding              34.000729     1972.413384   \n",
       "\n",
       "                                   drugs_related_stop  search_conducted  \n",
       "driver_gender violation                                                  \n",
       "F             Equipment                      0.008042          0.042622  \n",
       "              Moving violation               0.009363          0.036205  \n",
       "              Other                          0.010145          0.056522  \n",
       "              Registration/plates            0.003949          0.066140  \n",
       "              Seat belt                      0.006299          0.012598  \n",
       "              Speeding                       0.002002          0.008720  \n",
       "M             Equipment                      0.022852          0.070081  \n",
       "              Moving violation               0.016974          0.059831  \n",
       "              Other                          0.005514          0.047146  \n",
       "              Registration/plates            0.016122          0.110376  \n",
       "              Seat belt                      0.017264          0.037980  \n",
       "              Speeding                       0.006186          0.024925  "
      ]
     },
     "execution_count": 10,
     "metadata": {},
     "output_type": "execute_result"
    }
   ],
   "source": [
    "pd.pivot_table(df, index = ['driver_gender', 'violation'])"
   ]
  },
  {
   "cell_type": "markdown",
   "id": "119d97f7",
   "metadata": {},
   "source": [
    "### Min, max, avg age of male and female --- for each violation and what times"
   ]
  },
  {
   "cell_type": "code",
   "execution_count": 11,
   "id": "6b0b0ac1",
   "metadata": {},
   "outputs": [
    {
     "data": {
      "text/html": [
       "<div>\n",
       "<style scoped>\n",
       "    .dataframe tbody tr th:only-of-type {\n",
       "        vertical-align: middle;\n",
       "    }\n",
       "\n",
       "    .dataframe tbody tr th {\n",
       "        vertical-align: top;\n",
       "    }\n",
       "\n",
       "    .dataframe thead tr th {\n",
       "        text-align: left;\n",
       "    }\n",
       "\n",
       "    .dataframe thead tr:last-of-type th {\n",
       "        text-align: right;\n",
       "    }\n",
       "</style>\n",
       "<table border=\"1\" class=\"dataframe\">\n",
       "  <thead>\n",
       "    <tr>\n",
       "      <th></th>\n",
       "      <th></th>\n",
       "      <th>mean</th>\n",
       "      <th>amax</th>\n",
       "      <th>amin</th>\n",
       "      <th>len</th>\n",
       "    </tr>\n",
       "    <tr>\n",
       "      <th></th>\n",
       "      <th></th>\n",
       "      <th>driver_age</th>\n",
       "      <th>driver_age</th>\n",
       "      <th>driver_age</th>\n",
       "      <th>driver_age</th>\n",
       "    </tr>\n",
       "    <tr>\n",
       "      <th>driver_gender</th>\n",
       "      <th>violation</th>\n",
       "      <th></th>\n",
       "      <th></th>\n",
       "      <th></th>\n",
       "      <th></th>\n",
       "    </tr>\n",
       "  </thead>\n",
       "  <tbody>\n",
       "    <tr>\n",
       "      <th rowspan=\"6\" valign=\"top\">F</th>\n",
       "      <th>Equipment</th>\n",
       "      <td>31.521739</td>\n",
       "      <td>89.0</td>\n",
       "      <td>16.0</td>\n",
       "      <td>2487</td>\n",
       "    </tr>\n",
       "    <tr>\n",
       "      <th>Moving violation</th>\n",
       "      <td>33.954930</td>\n",
       "      <td>99.0</td>\n",
       "      <td>15.0</td>\n",
       "      <td>3204</td>\n",
       "    </tr>\n",
       "    <tr>\n",
       "      <th>Other</th>\n",
       "      <td>33.969343</td>\n",
       "      <td>74.0</td>\n",
       "      <td>16.0</td>\n",
       "      <td>690</td>\n",
       "    </tr>\n",
       "    <tr>\n",
       "      <th>Registration/plates</th>\n",
       "      <td>32.850791</td>\n",
       "      <td>72.0</td>\n",
       "      <td>16.0</td>\n",
       "      <td>1013</td>\n",
       "    </tr>\n",
       "    <tr>\n",
       "      <th>Seat belt</th>\n",
       "      <td>30.124409</td>\n",
       "      <td>71.0</td>\n",
       "      <td>17.0</td>\n",
       "      <td>635</td>\n",
       "    </tr>\n",
       "    <tr>\n",
       "      <th>Speeding</th>\n",
       "      <td>32.529023</td>\n",
       "      <td>84.0</td>\n",
       "      <td>16.0</td>\n",
       "      <td>15482</td>\n",
       "    </tr>\n",
       "    <tr>\n",
       "      <th rowspan=\"6\" valign=\"top\">M</th>\n",
       "      <th>Equipment</th>\n",
       "      <td>31.857210</td>\n",
       "      <td>85.0</td>\n",
       "      <td>16.0</td>\n",
       "      <td>8533</td>\n",
       "    </tr>\n",
       "    <tr>\n",
       "      <th>Moving violation</th>\n",
       "      <td>36.653404</td>\n",
       "      <td>94.0</td>\n",
       "      <td>15.0</td>\n",
       "      <td>13020</td>\n",
       "    </tr>\n",
       "    <tr>\n",
       "      <th>Other</th>\n",
       "      <td>40.620631</td>\n",
       "      <td>87.0</td>\n",
       "      <td>16.0</td>\n",
       "      <td>3627</td>\n",
       "    </tr>\n",
       "    <tr>\n",
       "      <th>Registration/plates</th>\n",
       "      <td>32.783023</td>\n",
       "      <td>74.0</td>\n",
       "      <td>16.0</td>\n",
       "      <td>2419</td>\n",
       "    </tr>\n",
       "    <tr>\n",
       "      <th>Seat belt</th>\n",
       "      <td>32.776867</td>\n",
       "      <td>77.0</td>\n",
       "      <td>17.0</td>\n",
       "      <td>2317</td>\n",
       "    </tr>\n",
       "    <tr>\n",
       "      <th>Speeding</th>\n",
       "      <td>34.000729</td>\n",
       "      <td>90.0</td>\n",
       "      <td>15.0</td>\n",
       "      <td>32979</td>\n",
       "    </tr>\n",
       "  </tbody>\n",
       "</table>\n",
       "</div>"
      ],
      "text/plain": [
       "                                        mean       amax       amin        len\n",
       "                                  driver_age driver_age driver_age driver_age\n",
       "driver_gender violation                                                      \n",
       "F             Equipment            31.521739       89.0       16.0       2487\n",
       "              Moving violation     33.954930       99.0       15.0       3204\n",
       "              Other                33.969343       74.0       16.0        690\n",
       "              Registration/plates  32.850791       72.0       16.0       1013\n",
       "              Seat belt            30.124409       71.0       17.0        635\n",
       "              Speeding             32.529023       84.0       16.0      15482\n",
       "M             Equipment            31.857210       85.0       16.0       8533\n",
       "              Moving violation     36.653404       94.0       15.0      13020\n",
       "              Other                40.620631       87.0       16.0       3627\n",
       "              Registration/plates  32.783023       74.0       16.0       2419\n",
       "              Seat belt            32.776867       77.0       17.0       2317\n",
       "              Speeding             34.000729       90.0       15.0      32979"
      ]
     },
     "execution_count": 11,
     "metadata": {},
     "output_type": "execute_result"
    }
   ],
   "source": [
    "pd.pivot_table(df, index = ['driver_gender', 'violation'], values = ['driver_age'], aggfunc=[np.mean,np.max,np.min, len])"
   ]
  },
  {
   "cell_type": "markdown",
   "id": "7f83bc6d",
   "metadata": {},
   "source": [
    "### How many people are arrested on each date"
   ]
  },
  {
   "cell_type": "code",
   "execution_count": 12,
   "id": "104bff39",
   "metadata": {},
   "outputs": [
    {
     "data": {
      "text/plain": [
       "stop_date   is_arrested\n",
       "2005-01-02  False           1\n",
       "2005-01-18  False           1\n",
       "2005-01-23  False           1\n",
       "2005-02-20  True            1\n",
       "2005-03-14  False           1\n",
       "                           ..\n",
       "2015-12-28  False          20\n",
       "2015-12-29  False          12\n",
       "2015-12-30  False          21\n",
       "            True            1\n",
       "2015-12-31  False          24\n",
       "Name: is_arrested, Length: 5681, dtype: int64"
      ]
     },
     "execution_count": 12,
     "metadata": {},
     "output_type": "execute_result"
    }
   ],
   "source": [
    "df.groupby('stop_date').is_arrested.value_counts()"
   ]
  },
  {
   "cell_type": "markdown",
   "id": "d51af7a1",
   "metadata": {},
   "source": [
    "### On which time police is more active??"
   ]
  },
  {
   "cell_type": "code",
   "execution_count": 13,
   "id": "4bcbee75",
   "metadata": {},
   "outputs": [
    {
     "data": {
      "text/plain": [
       "Timestamp('2022-11-15 12:08:17.488364032')"
      ]
     },
     "execution_count": 13,
     "metadata": {},
     "output_type": "execute_result"
    }
   ],
   "source": [
    "df['stop_time'].mean()"
   ]
  },
  {
   "cell_type": "code",
   "execution_count": 14,
   "id": "34eb144b",
   "metadata": {},
   "outputs": [
    {
     "data": {
      "text/html": [
       "<div>\n",
       "<style scoped>\n",
       "    .dataframe tbody tr th:only-of-type {\n",
       "        vertical-align: middle;\n",
       "    }\n",
       "\n",
       "    .dataframe tbody tr th {\n",
       "        vertical-align: top;\n",
       "    }\n",
       "\n",
       "    .dataframe thead th {\n",
       "        text-align: right;\n",
       "    }\n",
       "</style>\n",
       "<table border=\"1\" class=\"dataframe\">\n",
       "  <thead>\n",
       "    <tr style=\"text-align: right;\">\n",
       "      <th></th>\n",
       "      <th>stop_date</th>\n",
       "      <th>stop_time</th>\n",
       "      <th>county_name</th>\n",
       "      <th>driver_gender</th>\n",
       "      <th>driver_age_raw</th>\n",
       "      <th>driver_age</th>\n",
       "      <th>driver_race</th>\n",
       "      <th>violation_raw</th>\n",
       "      <th>violation</th>\n",
       "      <th>search_conducted</th>\n",
       "      <th>search_type</th>\n",
       "      <th>stop_outcome</th>\n",
       "      <th>is_arrested</th>\n",
       "      <th>stop_duration</th>\n",
       "      <th>drugs_related_stop</th>\n",
       "    </tr>\n",
       "  </thead>\n",
       "  <tbody>\n",
       "    <tr>\n",
       "      <th>0</th>\n",
       "      <td>2005-01-02</td>\n",
       "      <td>2022-11-15 01:55:00</td>\n",
       "      <td>NaN</td>\n",
       "      <td>M</td>\n",
       "      <td>1985.0</td>\n",
       "      <td>20.0</td>\n",
       "      <td>White</td>\n",
       "      <td>Speeding</td>\n",
       "      <td>Speeding</td>\n",
       "      <td>False</td>\n",
       "      <td>NaN</td>\n",
       "      <td>Citation</td>\n",
       "      <td>False</td>\n",
       "      <td>0-15 Min</td>\n",
       "      <td>False</td>\n",
       "    </tr>\n",
       "    <tr>\n",
       "      <th>1</th>\n",
       "      <td>2005-01-18</td>\n",
       "      <td>2022-11-15 08:15:00</td>\n",
       "      <td>NaN</td>\n",
       "      <td>M</td>\n",
       "      <td>1965.0</td>\n",
       "      <td>40.0</td>\n",
       "      <td>White</td>\n",
       "      <td>Speeding</td>\n",
       "      <td>Speeding</td>\n",
       "      <td>False</td>\n",
       "      <td>NaN</td>\n",
       "      <td>Citation</td>\n",
       "      <td>False</td>\n",
       "      <td>0-15 Min</td>\n",
       "      <td>False</td>\n",
       "    </tr>\n",
       "    <tr>\n",
       "      <th>2</th>\n",
       "      <td>2005-01-23</td>\n",
       "      <td>2022-11-15 23:15:00</td>\n",
       "      <td>NaN</td>\n",
       "      <td>M</td>\n",
       "      <td>1972.0</td>\n",
       "      <td>33.0</td>\n",
       "      <td>White</td>\n",
       "      <td>Speeding</td>\n",
       "      <td>Speeding</td>\n",
       "      <td>False</td>\n",
       "      <td>NaN</td>\n",
       "      <td>Citation</td>\n",
       "      <td>False</td>\n",
       "      <td>0-15 Min</td>\n",
       "      <td>False</td>\n",
       "    </tr>\n",
       "    <tr>\n",
       "      <th>3</th>\n",
       "      <td>2005-02-20</td>\n",
       "      <td>2022-11-15 17:15:00</td>\n",
       "      <td>NaN</td>\n",
       "      <td>M</td>\n",
       "      <td>1986.0</td>\n",
       "      <td>19.0</td>\n",
       "      <td>White</td>\n",
       "      <td>Call for Service</td>\n",
       "      <td>Other</td>\n",
       "      <td>False</td>\n",
       "      <td>NaN</td>\n",
       "      <td>Arrest Driver</td>\n",
       "      <td>True</td>\n",
       "      <td>16-30 Min</td>\n",
       "      <td>False</td>\n",
       "    </tr>\n",
       "    <tr>\n",
       "      <th>4</th>\n",
       "      <td>2005-03-14</td>\n",
       "      <td>2022-11-15 10:00:00</td>\n",
       "      <td>NaN</td>\n",
       "      <td>F</td>\n",
       "      <td>1984.0</td>\n",
       "      <td>21.0</td>\n",
       "      <td>White</td>\n",
       "      <td>Speeding</td>\n",
       "      <td>Speeding</td>\n",
       "      <td>False</td>\n",
       "      <td>NaN</td>\n",
       "      <td>Citation</td>\n",
       "      <td>False</td>\n",
       "      <td>0-15 Min</td>\n",
       "      <td>False</td>\n",
       "    </tr>\n",
       "  </tbody>\n",
       "</table>\n",
       "</div>"
      ],
      "text/plain": [
       "   stop_date           stop_time  county_name driver_gender  driver_age_raw  \\\n",
       "0 2005-01-02 2022-11-15 01:55:00          NaN             M          1985.0   \n",
       "1 2005-01-18 2022-11-15 08:15:00          NaN             M          1965.0   \n",
       "2 2005-01-23 2022-11-15 23:15:00          NaN             M          1972.0   \n",
       "3 2005-02-20 2022-11-15 17:15:00          NaN             M          1986.0   \n",
       "4 2005-03-14 2022-11-15 10:00:00          NaN             F          1984.0   \n",
       "\n",
       "   driver_age driver_race     violation_raw violation  search_conducted  \\\n",
       "0        20.0       White          Speeding  Speeding             False   \n",
       "1        40.0       White          Speeding  Speeding             False   \n",
       "2        33.0       White          Speeding  Speeding             False   \n",
       "3        19.0       White  Call for Service     Other             False   \n",
       "4        21.0       White          Speeding  Speeding             False   \n",
       "\n",
       "  search_type   stop_outcome is_arrested stop_duration  drugs_related_stop  \n",
       "0         NaN       Citation       False      0-15 Min               False  \n",
       "1         NaN       Citation       False      0-15 Min               False  \n",
       "2         NaN       Citation       False      0-15 Min               False  \n",
       "3         NaN  Arrest Driver        True     16-30 Min               False  \n",
       "4         NaN       Citation       False      0-15 Min               False  "
      ]
     },
     "execution_count": 14,
     "metadata": {},
     "output_type": "execute_result"
    }
   ],
   "source": [
    "df.head()"
   ]
  },
  {
   "cell_type": "markdown",
   "id": "8d85ef30",
   "metadata": {},
   "source": [
    "### How many male and female drivers "
   ]
  },
  {
   "cell_type": "code",
   "execution_count": 15,
   "id": "b1902ef4",
   "metadata": {},
   "outputs": [
    {
     "data": {
      "text/plain": [
       "M    62895\n",
       "F    23511\n",
       "Name: driver_gender, dtype: int64"
      ]
     },
     "execution_count": 15,
     "metadata": {},
     "output_type": "execute_result"
    }
   ],
   "source": [
    "df['driver_gender'].value_counts()"
   ]
  },
  {
   "cell_type": "code",
   "execution_count": 16,
   "id": "8d341cb1",
   "metadata": {},
   "outputs": [
    {
     "data": {
      "text/plain": [
       "<AxesSubplot:>"
      ]
     },
     "execution_count": 16,
     "metadata": {},
     "output_type": "execute_result"
    },
    {
     "data": {
      "image/png": "[encoded data removed]",
      "text/plain": [
       "<Figure size 640x480 with 1 Axes>"
      ]
     },
     "metadata": {},
     "output_type": "display_data"
    }
   ],
   "source": [
    "df['driver_gender'].value_counts().plot.bar()"
   ]
  },
  {
   "cell_type": "markdown",
   "id": "f87d1109",
   "metadata": {},
   "source": [
    "### Find the average, min and max age for male and female drivers"
   ]
  },
  {
   "cell_type": "code",
   "execution_count": 17,
   "id": "7ec365c8",
   "metadata": {},
   "outputs": [
    {
     "data": {
      "text/html": [
       "<div>\n",
       "<style scoped>\n",
       "    .dataframe tbody tr th:only-of-type {\n",
       "        vertical-align: middle;\n",
       "    }\n",
       "\n",
       "    .dataframe tbody tr th {\n",
       "        vertical-align: top;\n",
       "    }\n",
       "\n",
       "    .dataframe thead th {\n",
       "        text-align: right;\n",
       "    }\n",
       "</style>\n",
       "<table border=\"1\" class=\"dataframe\">\n",
       "  <thead>\n",
       "    <tr style=\"text-align: right;\">\n",
       "      <th></th>\n",
       "      <th>min</th>\n",
       "      <th>max</th>\n",
       "      <th>mean</th>\n",
       "    </tr>\n",
       "    <tr>\n",
       "      <th>driver_gender</th>\n",
       "      <th></th>\n",
       "      <th></th>\n",
       "      <th></th>\n",
       "    </tr>\n",
       "  </thead>\n",
       "  <tbody>\n",
       "    <tr>\n",
       "      <th>F</th>\n",
       "      <td>15.0</td>\n",
       "      <td>99.0</td>\n",
       "      <td>32.607399</td>\n",
       "    </tr>\n",
       "    <tr>\n",
       "      <th>M</th>\n",
       "      <td>15.0</td>\n",
       "      <td>94.0</td>\n",
       "      <td>34.537886</td>\n",
       "    </tr>\n",
       "  </tbody>\n",
       "</table>\n",
       "</div>"
      ],
      "text/plain": [
       "                min   max       mean\n",
       "driver_gender                       \n",
       "F              15.0  99.0  32.607399\n",
       "M              15.0  94.0  34.537886"
      ]
     },
     "execution_count": 17,
     "metadata": {},
     "output_type": "execute_result"
    }
   ],
   "source": [
    "df.groupby('driver_gender').driver_age.agg(['min', 'max', 'mean'])"
   ]
  },
  {
   "cell_type": "markdown",
   "id": "93e4d614",
   "metadata": {},
   "source": [
    "### Check drug activity"
   ]
  },
  {
   "cell_type": "code",
   "execution_count": 18,
   "id": "69b12e41",
   "metadata": {},
   "outputs": [
    {
     "data": {
      "text/plain": [
       "driver_gender  drugs_related_stop\n",
       "F              False                 23415\n",
       "               True                     96\n",
       "M              False                 62176\n",
       "               True                    719\n",
       "Name: drugs_related_stop, dtype: int64"
      ]
     },
     "execution_count": 18,
     "metadata": {},
     "output_type": "execute_result"
    }
   ],
   "source": [
    "drug_data = df.groupby('driver_gender').drugs_related_stop.value_counts()\n",
    "drug_data"
   ]
  },
  {
   "cell_type": "markdown",
   "id": "5324cb02",
   "metadata": {},
   "source": [
    "#### Extract true cases for male and female "
   ]
  },
  {
   "cell_type": "code",
   "execution_count": 19,
   "id": "f2297c68",
   "metadata": {},
   "outputs": [
    {
     "data": {
      "text/plain": [
       "driver_gender\n",
       "F     96\n",
       "M    719\n",
       "Name: drugs_related_stop, dtype: int64"
      ]
     },
     "execution_count": 19,
     "metadata": {},
     "output_type": "execute_result"
    }
   ],
   "source": [
    "df.groupby('driver_gender').drugs_related_stop.sum()"
   ]
  },
  {
   "cell_type": "markdown",
   "id": "cb454c5e",
   "metadata": {},
   "source": [
    "#### Total cases for true and false for drugs "
   ]
  },
  {
   "cell_type": "code",
   "execution_count": 20,
   "id": "de103c30",
   "metadata": {},
   "outputs": [
    {
     "data": {
      "text/plain": [
       "False    90926\n",
       "True       815\n",
       "Name: drugs_related_stop, dtype: int64"
      ]
     },
     "execution_count": 20,
     "metadata": {},
     "output_type": "execute_result"
    }
   ],
   "source": [
    "df['drugs_related_stop'].value_counts()"
   ]
  },
  {
   "cell_type": "markdown",
   "id": "9627f309",
   "metadata": {},
   "source": [
    "### What type of action is taken by police for each date"
   ]
  },
  {
   "cell_type": "code",
   "execution_count": 21,
   "id": "daef1fb7",
   "metadata": {},
   "outputs": [
    {
     "data": {
      "text/plain": [
       "stop_date   stop_outcome    \n",
       "2005-01-02  Citation             1\n",
       "2005-01-18  Citation             1\n",
       "2005-01-23  Citation             1\n",
       "2005-02-20  Arrest Driver        1\n",
       "2005-03-14  Citation             1\n",
       "                                ..\n",
       "2015-12-30  N/D                  2\n",
       "            Arrest Passenger     1\n",
       "2015-12-31  Citation            16\n",
       "            Warning              7\n",
       "            No Action            1\n",
       "Name: stop_outcome, Length: 8970, dtype: int64"
      ]
     },
     "execution_count": 21,
     "metadata": {},
     "output_type": "execute_result"
    }
   ],
   "source": [
    "df.groupby('stop_date').stop_outcome.value_counts()"
   ]
  },
  {
   "cell_type": "markdown",
   "id": "6b98832f",
   "metadata": {},
   "source": [
    "### How many times police has given warning as stop_outcome"
   ]
  },
  {
   "cell_type": "code",
   "execution_count": 22,
   "id": "14ae8287",
   "metadata": {},
   "outputs": [
    {
     "data": {
      "text/html": [
       "<div>\n",
       "<style scoped>\n",
       "    .dataframe tbody tr th:only-of-type {\n",
       "        vertical-align: middle;\n",
       "    }\n",
       "\n",
       "    .dataframe tbody tr th {\n",
       "        vertical-align: top;\n",
       "    }\n",
       "\n",
       "    .dataframe thead th {\n",
       "        text-align: right;\n",
       "    }\n",
       "</style>\n",
       "<table border=\"1\" class=\"dataframe\">\n",
       "  <thead>\n",
       "    <tr style=\"text-align: right;\">\n",
       "      <th></th>\n",
       "      <th>stop_date</th>\n",
       "      <th>stop_time</th>\n",
       "      <th>county_name</th>\n",
       "      <th>driver_gender</th>\n",
       "      <th>driver_age_raw</th>\n",
       "      <th>driver_age</th>\n",
       "      <th>driver_race</th>\n",
       "      <th>violation_raw</th>\n",
       "      <th>violation</th>\n",
       "      <th>search_conducted</th>\n",
       "      <th>search_type</th>\n",
       "      <th>stop_outcome</th>\n",
       "      <th>is_arrested</th>\n",
       "      <th>stop_duration</th>\n",
       "      <th>drugs_related_stop</th>\n",
       "    </tr>\n",
       "  </thead>\n",
       "  <tbody>\n",
       "    <tr>\n",
       "      <th>0</th>\n",
       "      <td>2005-01-02</td>\n",
       "      <td>2022-11-15 01:55:00</td>\n",
       "      <td>NaN</td>\n",
       "      <td>M</td>\n",
       "      <td>1985.0</td>\n",
       "      <td>20.0</td>\n",
       "      <td>White</td>\n",
       "      <td>Speeding</td>\n",
       "      <td>Speeding</td>\n",
       "      <td>False</td>\n",
       "      <td>NaN</td>\n",
       "      <td>Citation</td>\n",
       "      <td>False</td>\n",
       "      <td>0-15 Min</td>\n",
       "      <td>False</td>\n",
       "    </tr>\n",
       "    <tr>\n",
       "      <th>1</th>\n",
       "      <td>2005-01-18</td>\n",
       "      <td>2022-11-15 08:15:00</td>\n",
       "      <td>NaN</td>\n",
       "      <td>M</td>\n",
       "      <td>1965.0</td>\n",
       "      <td>40.0</td>\n",
       "      <td>White</td>\n",
       "      <td>Speeding</td>\n",
       "      <td>Speeding</td>\n",
       "      <td>False</td>\n",
       "      <td>NaN</td>\n",
       "      <td>Citation</td>\n",
       "      <td>False</td>\n",
       "      <td>0-15 Min</td>\n",
       "      <td>False</td>\n",
       "    </tr>\n",
       "    <tr>\n",
       "      <th>2</th>\n",
       "      <td>2005-01-23</td>\n",
       "      <td>2022-11-15 23:15:00</td>\n",
       "      <td>NaN</td>\n",
       "      <td>M</td>\n",
       "      <td>1972.0</td>\n",
       "      <td>33.0</td>\n",
       "      <td>White</td>\n",
       "      <td>Speeding</td>\n",
       "      <td>Speeding</td>\n",
       "      <td>False</td>\n",
       "      <td>NaN</td>\n",
       "      <td>Citation</td>\n",
       "      <td>False</td>\n",
       "      <td>0-15 Min</td>\n",
       "      <td>False</td>\n",
       "    </tr>\n",
       "    <tr>\n",
       "      <th>3</th>\n",
       "      <td>2005-02-20</td>\n",
       "      <td>2022-11-15 17:15:00</td>\n",
       "      <td>NaN</td>\n",
       "      <td>M</td>\n",
       "      <td>1986.0</td>\n",
       "      <td>19.0</td>\n",
       "      <td>White</td>\n",
       "      <td>Call for Service</td>\n",
       "      <td>Other</td>\n",
       "      <td>False</td>\n",
       "      <td>NaN</td>\n",
       "      <td>Arrest Driver</td>\n",
       "      <td>True</td>\n",
       "      <td>16-30 Min</td>\n",
       "      <td>False</td>\n",
       "    </tr>\n",
       "    <tr>\n",
       "      <th>4</th>\n",
       "      <td>2005-03-14</td>\n",
       "      <td>2022-11-15 10:00:00</td>\n",
       "      <td>NaN</td>\n",
       "      <td>F</td>\n",
       "      <td>1984.0</td>\n",
       "      <td>21.0</td>\n",
       "      <td>White</td>\n",
       "      <td>Speeding</td>\n",
       "      <td>Speeding</td>\n",
       "      <td>False</td>\n",
       "      <td>NaN</td>\n",
       "      <td>Citation</td>\n",
       "      <td>False</td>\n",
       "      <td>0-15 Min</td>\n",
       "      <td>False</td>\n",
       "    </tr>\n",
       "  </tbody>\n",
       "</table>\n",
       "</div>"
      ],
      "text/plain": [
       "   stop_date           stop_time  county_name driver_gender  driver_age_raw  \\\n",
       "0 2005-01-02 2022-11-15 01:55:00          NaN             M          1985.0   \n",
       "1 2005-01-18 2022-11-15 08:15:00          NaN             M          1965.0   \n",
       "2 2005-01-23 2022-11-15 23:15:00          NaN             M          1972.0   \n",
       "3 2005-02-20 2022-11-15 17:15:00          NaN             M          1986.0   \n",
       "4 2005-03-14 2022-11-15 10:00:00          NaN             F          1984.0   \n",
       "\n",
       "   driver_age driver_race     violation_raw violation  search_conducted  \\\n",
       "0        20.0       White          Speeding  Speeding             False   \n",
       "1        40.0       White          Speeding  Speeding             False   \n",
       "2        33.0       White          Speeding  Speeding             False   \n",
       "3        19.0       White  Call for Service     Other             False   \n",
       "4        21.0       White          Speeding  Speeding             False   \n",
       "\n",
       "  search_type   stop_outcome is_arrested stop_duration  drugs_related_stop  \n",
       "0         NaN       Citation       False      0-15 Min               False  \n",
       "1         NaN       Citation       False      0-15 Min               False  \n",
       "2         NaN       Citation       False      0-15 Min               False  \n",
       "3         NaN  Arrest Driver        True     16-30 Min               False  \n",
       "4         NaN       Citation       False      0-15 Min               False  "
      ]
     },
     "execution_count": 22,
     "metadata": {},
     "output_type": "execute_result"
    }
   ],
   "source": [
    "df.head()"
   ]
  },
  {
   "cell_type": "code",
   "execution_count": 23,
   "id": "2a4a2e14",
   "metadata": {},
   "outputs": [
    {
     "data": {
      "text/plain": [
       "Citation            77006\n",
       "Warning              5294\n",
       "Arrest Driver        2571\n",
       "N/D                   590\n",
       "No Action             589\n",
       "Arrest Passenger      358\n",
       "Name: stop_outcome, dtype: int64"
      ]
     },
     "execution_count": 23,
     "metadata": {},
     "output_type": "execute_result"
    }
   ],
   "source": [
    "df['stop_outcome'].value_counts()"
   ]
  },
  {
   "cell_type": "code",
   "execution_count": 24,
   "id": "48cc8205",
   "metadata": {},
   "outputs": [
    {
     "data": {
      "text/html": [
       "<div>\n",
       "<style scoped>\n",
       "    .dataframe tbody tr th:only-of-type {\n",
       "        vertical-align: middle;\n",
       "    }\n",
       "\n",
       "    .dataframe tbody tr th {\n",
       "        vertical-align: top;\n",
       "    }\n",
       "\n",
       "    .dataframe thead th {\n",
       "        text-align: right;\n",
       "    }\n",
       "</style>\n",
       "<table border=\"1\" class=\"dataframe\">\n",
       "  <thead>\n",
       "    <tr style=\"text-align: right;\">\n",
       "      <th></th>\n",
       "      <th>stop_date</th>\n",
       "      <th>stop_time</th>\n",
       "      <th>county_name</th>\n",
       "      <th>driver_gender</th>\n",
       "      <th>driver_age_raw</th>\n",
       "      <th>driver_age</th>\n",
       "      <th>driver_race</th>\n",
       "      <th>violation_raw</th>\n",
       "      <th>violation</th>\n",
       "      <th>search_conducted</th>\n",
       "      <th>search_type</th>\n",
       "      <th>stop_outcome</th>\n",
       "      <th>is_arrested</th>\n",
       "      <th>stop_duration</th>\n",
       "      <th>drugs_related_stop</th>\n",
       "    </tr>\n",
       "  </thead>\n",
       "  <tbody>\n",
       "    <tr>\n",
       "      <th>99</th>\n",
       "      <td>2005-10-03</td>\n",
       "      <td>2022-11-15 08:37:00</td>\n",
       "      <td>NaN</td>\n",
       "      <td>M</td>\n",
       "      <td>1965.0</td>\n",
       "      <td>40.0</td>\n",
       "      <td>White</td>\n",
       "      <td>Equipment/Inspection Violation</td>\n",
       "      <td>Equipment</td>\n",
       "      <td>False</td>\n",
       "      <td>NaN</td>\n",
       "      <td>Warning</td>\n",
       "      <td>False</td>\n",
       "      <td>0-15 Min</td>\n",
       "      <td>False</td>\n",
       "    </tr>\n",
       "    <tr>\n",
       "      <th>108</th>\n",
       "      <td>2005-10-03</td>\n",
       "      <td>2022-11-15 17:00:00</td>\n",
       "      <td>NaN</td>\n",
       "      <td>M</td>\n",
       "      <td>1961.0</td>\n",
       "      <td>44.0</td>\n",
       "      <td>White</td>\n",
       "      <td>Equipment/Inspection Violation</td>\n",
       "      <td>Equipment</td>\n",
       "      <td>False</td>\n",
       "      <td>NaN</td>\n",
       "      <td>Warning</td>\n",
       "      <td>False</td>\n",
       "      <td>30+ Min</td>\n",
       "      <td>False</td>\n",
       "    </tr>\n",
       "    <tr>\n",
       "      <th>168</th>\n",
       "      <td>2005-10-06</td>\n",
       "      <td>2022-11-15 06:30:00</td>\n",
       "      <td>NaN</td>\n",
       "      <td>M</td>\n",
       "      <td>1970.0</td>\n",
       "      <td>35.0</td>\n",
       "      <td>White</td>\n",
       "      <td>Speeding</td>\n",
       "      <td>Speeding</td>\n",
       "      <td>False</td>\n",
       "      <td>NaN</td>\n",
       "      <td>Warning</td>\n",
       "      <td>False</td>\n",
       "      <td>0-15 Min</td>\n",
       "      <td>False</td>\n",
       "    </tr>\n",
       "    <tr>\n",
       "      <th>260</th>\n",
       "      <td>2005-10-09</td>\n",
       "      <td>2022-11-15 16:00:00</td>\n",
       "      <td>NaN</td>\n",
       "      <td>F</td>\n",
       "      <td>1978.0</td>\n",
       "      <td>27.0</td>\n",
       "      <td>Black</td>\n",
       "      <td>Registration Violation</td>\n",
       "      <td>Registration/plates</td>\n",
       "      <td>False</td>\n",
       "      <td>NaN</td>\n",
       "      <td>Warning</td>\n",
       "      <td>False</td>\n",
       "      <td>0-15 Min</td>\n",
       "      <td>False</td>\n",
       "    </tr>\n",
       "    <tr>\n",
       "      <th>281</th>\n",
       "      <td>2005-10-10</td>\n",
       "      <td>2022-11-15 12:05:00</td>\n",
       "      <td>NaN</td>\n",
       "      <td>F</td>\n",
       "      <td>0.0</td>\n",
       "      <td>NaN</td>\n",
       "      <td>White</td>\n",
       "      <td>Other Traffic Violation</td>\n",
       "      <td>Moving violation</td>\n",
       "      <td>False</td>\n",
       "      <td>NaN</td>\n",
       "      <td>Warning</td>\n",
       "      <td>False</td>\n",
       "      <td>0-15 Min</td>\n",
       "      <td>False</td>\n",
       "    </tr>\n",
       "    <tr>\n",
       "      <th>...</th>\n",
       "      <td>...</td>\n",
       "      <td>...</td>\n",
       "      <td>...</td>\n",
       "      <td>...</td>\n",
       "      <td>...</td>\n",
       "      <td>...</td>\n",
       "      <td>...</td>\n",
       "      <td>...</td>\n",
       "      <td>...</td>\n",
       "      <td>...</td>\n",
       "      <td>...</td>\n",
       "      <td>...</td>\n",
       "      <td>...</td>\n",
       "      <td>...</td>\n",
       "      <td>...</td>\n",
       "    </tr>\n",
       "    <tr>\n",
       "      <th>91730</th>\n",
       "      <td>2015-12-31</td>\n",
       "      <td>2022-11-15 15:36:00</td>\n",
       "      <td>NaN</td>\n",
       "      <td>F</td>\n",
       "      <td>1996.0</td>\n",
       "      <td>19.0</td>\n",
       "      <td>Hispanic</td>\n",
       "      <td>Equipment/Inspection Violation</td>\n",
       "      <td>Equipment</td>\n",
       "      <td>False</td>\n",
       "      <td>NaN</td>\n",
       "      <td>Warning</td>\n",
       "      <td>False</td>\n",
       "      <td>0-15 Min</td>\n",
       "      <td>False</td>\n",
       "    </tr>\n",
       "    <tr>\n",
       "      <th>91732</th>\n",
       "      <td>2015-12-31</td>\n",
       "      <td>2022-11-15 19:44:00</td>\n",
       "      <td>NaN</td>\n",
       "      <td>F</td>\n",
       "      <td>1969.0</td>\n",
       "      <td>46.0</td>\n",
       "      <td>White</td>\n",
       "      <td>Speeding</td>\n",
       "      <td>Speeding</td>\n",
       "      <td>False</td>\n",
       "      <td>NaN</td>\n",
       "      <td>Warning</td>\n",
       "      <td>False</td>\n",
       "      <td>0-15 Min</td>\n",
       "      <td>False</td>\n",
       "    </tr>\n",
       "    <tr>\n",
       "      <th>91736</th>\n",
       "      <td>2015-12-31</td>\n",
       "      <td>2022-11-15 20:27:00</td>\n",
       "      <td>NaN</td>\n",
       "      <td>M</td>\n",
       "      <td>1986.0</td>\n",
       "      <td>29.0</td>\n",
       "      <td>White</td>\n",
       "      <td>Speeding</td>\n",
       "      <td>Speeding</td>\n",
       "      <td>False</td>\n",
       "      <td>NaN</td>\n",
       "      <td>Warning</td>\n",
       "      <td>False</td>\n",
       "      <td>0-15 Min</td>\n",
       "      <td>False</td>\n",
       "    </tr>\n",
       "    <tr>\n",
       "      <th>91737</th>\n",
       "      <td>2015-12-31</td>\n",
       "      <td>2022-11-15 20:35:00</td>\n",
       "      <td>NaN</td>\n",
       "      <td>F</td>\n",
       "      <td>1982.0</td>\n",
       "      <td>33.0</td>\n",
       "      <td>White</td>\n",
       "      <td>Equipment/Inspection Violation</td>\n",
       "      <td>Equipment</td>\n",
       "      <td>False</td>\n",
       "      <td>NaN</td>\n",
       "      <td>Warning</td>\n",
       "      <td>False</td>\n",
       "      <td>0-15 Min</td>\n",
       "      <td>False</td>\n",
       "    </tr>\n",
       "    <tr>\n",
       "      <th>91738</th>\n",
       "      <td>2015-12-31</td>\n",
       "      <td>2022-11-15 20:45:00</td>\n",
       "      <td>NaN</td>\n",
       "      <td>M</td>\n",
       "      <td>1992.0</td>\n",
       "      <td>23.0</td>\n",
       "      <td>White</td>\n",
       "      <td>Other Traffic Violation</td>\n",
       "      <td>Moving violation</td>\n",
       "      <td>False</td>\n",
       "      <td>NaN</td>\n",
       "      <td>Warning</td>\n",
       "      <td>False</td>\n",
       "      <td>0-15 Min</td>\n",
       "      <td>False</td>\n",
       "    </tr>\n",
       "  </tbody>\n",
       "</table>\n",
       "<p>5294 rows × 15 columns</p>\n",
       "</div>"
      ],
      "text/plain": [
       "       stop_date           stop_time  county_name driver_gender  \\\n",
       "99    2005-10-03 2022-11-15 08:37:00          NaN             M   \n",
       "108   2005-10-03 2022-11-15 17:00:00          NaN             M   \n",
       "168   2005-10-06 2022-11-15 06:30:00          NaN             M   \n",
       "260   2005-10-09 2022-11-15 16:00:00          NaN             F   \n",
       "281   2005-10-10 2022-11-15 12:05:00          NaN             F   \n",
       "...          ...                 ...          ...           ...   \n",
       "91730 2015-12-31 2022-11-15 15:36:00          NaN             F   \n",
       "91732 2015-12-31 2022-11-15 19:44:00          NaN             F   \n",
       "91736 2015-12-31 2022-11-15 20:27:00          NaN             M   \n",
       "91737 2015-12-31 2022-11-15 20:35:00          NaN             F   \n",
       "91738 2015-12-31 2022-11-15 20:45:00          NaN             M   \n",
       "\n",
       "       driver_age_raw  driver_age driver_race                   violation_raw  \\\n",
       "99             1965.0        40.0       White  Equipment/Inspection Violation   \n",
       "108            1961.0        44.0       White  Equipment/Inspection Violation   \n",
       "168            1970.0        35.0       White                        Speeding   \n",
       "260            1978.0        27.0       Black          Registration Violation   \n",
       "281               0.0         NaN       White         Other Traffic Violation   \n",
       "...               ...         ...         ...                             ...   \n",
       "91730          1996.0        19.0    Hispanic  Equipment/Inspection Violation   \n",
       "91732          1969.0        46.0       White                        Speeding   \n",
       "91736          1986.0        29.0       White                        Speeding   \n",
       "91737          1982.0        33.0       White  Equipment/Inspection Violation   \n",
       "91738          1992.0        23.0       White         Other Traffic Violation   \n",
       "\n",
       "                 violation  search_conducted search_type stop_outcome  \\\n",
       "99               Equipment             False         NaN      Warning   \n",
       "108              Equipment             False         NaN      Warning   \n",
       "168               Speeding             False         NaN      Warning   \n",
       "260    Registration/plates             False         NaN      Warning   \n",
       "281       Moving violation             False         NaN      Warning   \n",
       "...                    ...               ...         ...          ...   \n",
       "91730            Equipment             False         NaN      Warning   \n",
       "91732             Speeding             False         NaN      Warning   \n",
       "91736             Speeding             False         NaN      Warning   \n",
       "91737            Equipment             False         NaN      Warning   \n",
       "91738     Moving violation             False         NaN      Warning   \n",
       "\n",
       "      is_arrested stop_duration  drugs_related_stop  \n",
       "99          False      0-15 Min               False  \n",
       "108         False       30+ Min               False  \n",
       "168         False      0-15 Min               False  \n",
       "260         False      0-15 Min               False  \n",
       "281         False      0-15 Min               False  \n",
       "...           ...           ...                 ...  \n",
       "91730       False      0-15 Min               False  \n",
       "91732       False      0-15 Min               False  \n",
       "91736       False      0-15 Min               False  \n",
       "91737       False      0-15 Min               False  \n",
       "91738       False      0-15 Min               False  \n",
       "\n",
       "[5294 rows x 15 columns]"
      ]
     },
     "execution_count": 24,
     "metadata": {},
     "output_type": "execute_result"
    }
   ],
   "source": [
    "warning_data = df[df['stop_outcome'] == 'Warning']\n",
    "warning_data"
   ]
  },
  {
   "cell_type": "code",
   "execution_count": 25,
   "id": "4bfd3fa0",
   "metadata": {},
   "outputs": [
    {
     "data": {
      "text/plain": [
       "5294"
      ]
     },
     "execution_count": 25,
     "metadata": {},
     "output_type": "execute_result"
    }
   ],
   "source": [
    "len(warning_data)"
   ]
  },
  {
   "cell_type": "markdown",
   "id": "5a24075c",
   "metadata": {},
   "source": [
    "#### Warning cases for male and female"
   ]
  },
  {
   "cell_type": "code",
   "execution_count": 26,
   "id": "2369892d",
   "metadata": {},
   "outputs": [
    {
     "data": {
      "text/plain": [
       "M    3779\n",
       "F    1514\n",
       "Name: driver_gender, dtype: int64"
      ]
     },
     "execution_count": 26,
     "metadata": {},
     "output_type": "execute_result"
    }
   ],
   "source": [
    "warning_data['driver_gender'].value_counts()"
   ]
  },
  {
   "cell_type": "code",
   "execution_count": 27,
   "id": "51589ab4",
   "metadata": {},
   "outputs": [
    {
     "data": {
      "text/plain": [
       "driver_gender  stop_outcome\n",
       "F              Warning         1514\n",
       "M              Warning         3779\n",
       "Name: stop_outcome, dtype: int64"
      ]
     },
     "execution_count": 27,
     "metadata": {},
     "output_type": "execute_result"
    }
   ],
   "source": [
    "# another process \n",
    "\n",
    "warning_data.groupby('driver_gender').stop_outcome.value_counts()"
   ]
  },
  {
   "cell_type": "markdown",
   "id": "49317e08",
   "metadata": {},
   "source": [
    "### How many male and female for each violation "
   ]
  },
  {
   "cell_type": "code",
   "execution_count": 28,
   "id": "9d39e021",
   "metadata": {},
   "outputs": [
    {
     "data": {
      "text/plain": [
       "driver_gender  violation          \n",
       "F              Speeding               15482\n",
       "               Moving violation        3204\n",
       "               Equipment               2487\n",
       "               Registration/plates     1013\n",
       "               Other                    690\n",
       "               Seat belt                635\n",
       "M              Speeding               32979\n",
       "               Moving violation       13020\n",
       "               Equipment               8533\n",
       "               Other                   3627\n",
       "               Registration/plates     2419\n",
       "               Seat belt               2317\n",
       "Name: violation, dtype: int64"
      ]
     },
     "execution_count": 28,
     "metadata": {},
     "output_type": "execute_result"
    }
   ],
   "source": [
    "df.groupby('driver_gender').violation.value_counts()"
   ]
  },
  {
   "cell_type": "code",
   "execution_count": 29,
   "id": "6e784deb",
   "metadata": {},
   "outputs": [
    {
     "data": {
      "text/html": [
       "<div>\n",
       "<style scoped>\n",
       "    .dataframe tbody tr th:only-of-type {\n",
       "        vertical-align: middle;\n",
       "    }\n",
       "\n",
       "    .dataframe tbody tr th {\n",
       "        vertical-align: top;\n",
       "    }\n",
       "\n",
       "    .dataframe thead th {\n",
       "        text-align: right;\n",
       "    }\n",
       "</style>\n",
       "<table border=\"1\" class=\"dataframe\">\n",
       "  <thead>\n",
       "    <tr style=\"text-align: right;\">\n",
       "      <th>violation</th>\n",
       "      <th>Equipment</th>\n",
       "      <th>Moving violation</th>\n",
       "      <th>Other</th>\n",
       "      <th>Registration/plates</th>\n",
       "      <th>Seat belt</th>\n",
       "      <th>Speeding</th>\n",
       "      <th>All</th>\n",
       "    </tr>\n",
       "    <tr>\n",
       "      <th>driver_gender</th>\n",
       "      <th></th>\n",
       "      <th></th>\n",
       "      <th></th>\n",
       "      <th></th>\n",
       "      <th></th>\n",
       "      <th></th>\n",
       "      <th></th>\n",
       "    </tr>\n",
       "  </thead>\n",
       "  <tbody>\n",
       "    <tr>\n",
       "      <th>F</th>\n",
       "      <td>2487</td>\n",
       "      <td>3204</td>\n",
       "      <td>690</td>\n",
       "      <td>1013</td>\n",
       "      <td>635</td>\n",
       "      <td>15482</td>\n",
       "      <td>23511</td>\n",
       "    </tr>\n",
       "    <tr>\n",
       "      <th>M</th>\n",
       "      <td>8533</td>\n",
       "      <td>13020</td>\n",
       "      <td>3627</td>\n",
       "      <td>2419</td>\n",
       "      <td>2317</td>\n",
       "      <td>32979</td>\n",
       "      <td>62895</td>\n",
       "    </tr>\n",
       "    <tr>\n",
       "      <th>All</th>\n",
       "      <td>11020</td>\n",
       "      <td>16224</td>\n",
       "      <td>4317</td>\n",
       "      <td>3432</td>\n",
       "      <td>2952</td>\n",
       "      <td>48461</td>\n",
       "      <td>86406</td>\n",
       "    </tr>\n",
       "  </tbody>\n",
       "</table>\n",
       "</div>"
      ],
      "text/plain": [
       "violation      Equipment  Moving violation  Other  Registration/plates  \\\n",
       "driver_gender                                                            \n",
       "F                   2487              3204    690                 1013   \n",
       "M                   8533             13020   3627                 2419   \n",
       "All                11020             16224   4317                 3432   \n",
       "\n",
       "violation      Seat belt  Speeding    All  \n",
       "driver_gender                              \n",
       "F                    635     15482  23511  \n",
       "M                   2317     32979  62895  \n",
       "All                 2952     48461  86406  "
      ]
     },
     "execution_count": 29,
     "metadata": {},
     "output_type": "execute_result"
    }
   ],
   "source": [
    "# another process\n",
    "\n",
    "pd.crosstab(df['driver_gender'], df['violation'], margins = True)"
   ]
  },
  {
   "cell_type": "markdown",
   "id": "229ffdbb",
   "metadata": {},
   "source": [
    "### Data distribution for driver age"
   ]
  },
  {
   "cell_type": "code",
   "execution_count": 30,
   "id": "604278b6",
   "metadata": {},
   "outputs": [
    {
     "data": {
      "text/plain": [
       "<AxesSubplot:>"
      ]
     },
     "execution_count": 30,
     "metadata": {},
     "output_type": "execute_result"
    },
    {
     "data": {
      "image/png": "[encoded data removed]",
      "text/plain": [
       "<Figure size 640x480 with 1 Axes>"
      ]
     },
     "metadata": {},
     "output_type": "display_data"
    }
   ],
   "source": [
    "df.boxplot('driver_age')"
   ]
  },
  {
   "cell_type": "code",
   "execution_count": null,
   "id": "02c361af",
   "metadata": {},
   "outputs": [],
   "source": []
  }
 ],
 "metadata": {
  "kernelspec": {
   "display_name": "Python 3 (ipykernel)",
   "language": "python",
   "name": "python3"
  },
  "language_info": {
   "codemirror_mode": {
    "name": "ipython",
    "version": 3
   },
   "file_extension": ".py",
   "mimetype": "text/x-python",
   "name": "python",
   "nbconvert_exporter": "python",
   "pygments_lexer": "ipython3",
   "version": "3.9.13"
  }
 },
 "nbformat": 4,
 "nbformat_minor": 5
}
